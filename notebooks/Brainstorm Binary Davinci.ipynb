{
 "cells": [
  {
   "cell_type": "code",
   "execution_count": null,
   "id": "e010bfd4-27c6-4208-aa92-30900f23ea61",
   "metadata": {
    "tags": []
   },
   "outputs": [],
   "source": [
    "%%capture\n",
    "\n",
    "## Requires pip install the following packages\n",
    "## - openai\n",
    "## - tabulate\n",
    "%pip install --upgrade openai tabulate"
   ]
  },
  {
   "cell_type": "code",
   "execution_count": null,
   "id": "5bf04654-4bf5-4736-ac08-9a1a6007cd24",
   "metadata": {
    "tags": []
   },
   "outputs": [],
   "source": [
    "import os\n",
    "import openai\n",
    "openai.organization = os.getenv('BRAINSTORMER_OPENAI_ORG')\n",
    "openai.api_key = os.getenv('BRAINSTORMER_OPENAI_KEY')\n",
    "\n",
    "## Test that everything is setup alright showing the first 10 models\n",
    "for m in openai.Model.list().data[:10]:\n",
    "    print(m.id)"
   ]
  },
  {
   "cell_type": "code",
   "execution_count": null,
   "id": "d3a6cfbd-7b41-4697-a3f5-134e9e5296e8",
   "metadata": {
    "tags": []
   },
   "outputs": [],
   "source": [
    "topic=\"Teambuilding activities for 30 people\"\n",
    "bad = []\n",
    "good = []"
   ]
  },
  {
   "cell_type": "code",
   "execution_count": null,
   "id": "1a066096-e0bc-441f-8b49-8c1c64c307a6",
   "metadata": {
    "tags": []
   },
   "outputs": [],
   "source": [
    "prompt = \"\"\"You're brainstorming application that will suggest ideas based on the inputs of the user. \n",
    "\n",
    "Your output will be a CSV document of columns separated with the character `|`. Each idea is has a small summary (3 or 4 words) and a description (as long as necessary)\n",
    "\n",
    "For example with the topic: \"Activities with children for a rainy day\" an example output could be:\n",
    "summary | description\n",
    "Indoor Treasure Hunt | Create a treasure hunt with clues and small prizes hidden throughout the house. Children will have a great time searching for the hidden treasure and solving the clues.\n",
    "DIY Playdough | Make homemade playdough with flour, salt, water, and food coloring. Kids will love mixing the ingredients together and then playing with the colorful playdough.\n",
    "\n",
    "Topic: {}\n",
    "\n",
    "Current list of bad ideas:\n",
    "summary | description\n",
    "{}\n",
    "\n",
    "Current list of good ideas:\n",
    "summary | description\n",
    "{}\n",
    "\n",
    "next 5 good ideas:\n",
    "summary | description\"\"\".format(topic, \"\\n\".join(bad), \"\\n\".join(good))\n",
    "\n",
    "print(prompt)"
   ]
  },
  {
   "cell_type": "code",
   "execution_count": null,
   "id": "a409a23a-85d2-47de-846e-9a2de715852c",
   "metadata": {
    "tags": []
   },
   "outputs": [],
   "source": [
    "completion = openai.Completion.create(\n",
    "    model=\"text-davinci-003\",\n",
    "    presence_penalty=1,\n",
    "    temperature=1,\n",
    "    top_p=0.5,\n",
    "    best_of=1,\n",
    "    frequency_penalty=0,\n",
    "    max_tokens=512,\n",
    "    prompt=prompt)\n",
    "print(completion.choices[0].text)"
   ]
  },
  {
   "cell_type": "code",
   "execution_count": null,
   "id": "9f3889b8-2b98-42c6-968d-26e0142288ee",
   "metadata": {
    "tags": []
   },
   "outputs": [],
   "source": [
    "options = completion.choices[0].text.split(\"\\n\")[1:]\n",
    "good.append(options[0])\n",
    "good.append(options[1])\n",
    "bad.append(options[2])\n",
    "bad.append(options[3])\n",
    "bad.append(options[4])"
   ]
  },
  {
   "cell_type": "code",
   "execution_count": null,
   "id": "d21d001f-1f14-4846-b5ca-112937114de6",
   "metadata": {},
   "outputs": [],
   "source": []
  }
 ],
 "metadata": {
  "kernelspec": {
   "display_name": "Python 3 (ipykernel)",
   "language": "python",
   "name": "python3"
  },
  "language_info": {
   "codemirror_mode": {
    "name": "ipython",
    "version": 3
   },
   "file_extension": ".py",
   "mimetype": "text/x-python",
   "name": "python",
   "nbconvert_exporter": "python",
   "pygments_lexer": "ipython3",
   "version": "3.10.10"
  }
 },
 "nbformat": 4,
 "nbformat_minor": 5
}
