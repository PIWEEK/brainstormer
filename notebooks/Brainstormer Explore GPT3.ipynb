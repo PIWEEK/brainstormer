{
 "cells": [
  {
   "cell_type": "code",
   "execution_count": null,
   "id": "2ded7251-ac03-4a81-b349-2e07829c0aae",
   "metadata": {},
   "outputs": [],
   "source": [
    "%%capture\n",
    "\n",
    "## Requires pip install the following packages\n",
    "## - openai\n",
    "## - tabulate\n",
    "%pip install --upgrade openai tabulate"
   ]
  },
  {
   "cell_type": "markdown",
   "id": "aa7ed44e-f36a-42df-a3ec-df8f0f0ce5a7",
   "metadata": {},
   "source": [
    "## Helper functions"
   ]
  },
  {
   "cell_type": "markdown",
   "id": "eb1dcb23-3818-4cf4-afed-2c537a4f8c63",
   "metadata": {
    "tags": []
   },
   "source": [
    "### Function to display CSV has html"
   ]
  },
  {
   "cell_type": "code",
   "execution_count": null,
   "id": "8ebec61c-6272-41e5-9bca-0183a0e28b26",
   "metadata": {
    "tags": []
   },
   "outputs": [],
   "source": [
    "import csv\n",
    "from tabulate import tabulate\n",
    "from io import StringIO\n",
    "from IPython.display import display, HTML\n",
    "\n",
    "def display_csv(csv_str):\n",
    "    csv_reader = csv.reader(StringIO(csv_str), delimiter=\"|\")\n",
    "    html_out = tabulate(csv_reader, headers=\"firstrow\", tablefmt=\"html\")\n",
    "    display(HTML(html_out))\n",
    "    \n",
    "def extract_title(response):\n",
    "    return response.content.split(\"\\n\")[-1].split(\"|\")[0].strip()\n"
   ]
  },
  {
   "cell_type": "markdown",
   "id": "609f7934-c3ea-4917-803d-de05438bddb3",
   "metadata": {
    "tags": []
   },
   "source": [
    "## API CALLS"
   ]
  },
  {
   "cell_type": "markdown",
   "id": "5b3576cb-8159-4998-aa78-f4d876fc4c71",
   "metadata": {
    "tags": []
   },
   "source": [
    "### Configure api key and test setup"
   ]
  },
  {
   "cell_type": "code",
   "execution_count": null,
   "id": "45ef9bb9-49a0-48aa-ba24-ec2981836657",
   "metadata": {
    "tags": []
   },
   "outputs": [],
   "source": [
    "import os\n",
    "import openai\n",
    "openai.organization = os.getenv('BRAINSTORMER_OPENAI_ORG')\n",
    "openai.api_key = os.getenv('BRAINSTORMER_OPENAI_KEY')\n",
    "\n",
    "## Test that everything is setup alright showing the first 10 models\n",
    "for m in openai.Model.list().data[:10]:\n",
    "    print(m.id)"
   ]
  },
  {
   "cell_type": "code",
   "execution_count": null,
   "id": "adbf592d-eede-4c21-843f-ccd83d6fd8c5",
   "metadata": {
    "tags": []
   },
   "outputs": [],
   "source": [
    "system_prompt = \"\"\"\n",
    "You're a brainstorming application.\n",
    "\n",
    "It's your job to suggest ideas from the promps the user will send you.\n",
    "\n",
    "Your output will always be a well formed CSV document. Where the columns will be separated by the character |.\n",
    "\n",
    "The document will have a list of ideas and every idea will have the columns \"summary\" with the idea summary and \"description\" with the idea description.\n",
    "\n",
    "For example with the prompt: \"Activities with children for a rainy day\" an example output could be:\n",
    "\n",
    "summary | description\n",
    "Indoor Treasure Hunt | Create a treasure hunt with clues and small prizes hidden throughout the house. Children will have a great time searching for the hidden treasure and solving the clues.\n",
    "DIY Playdough | Make homemade playdough with flour, salt, water, and food coloring. Kids will love mixing the ingredients together and then playing with the colorful playdough.\n",
    "Movie Marathon | Choose a few of your favorite movies and have a movie marathon with the kids. Don't forget the popcorn and snacks!\n",
    "The summary cannot exceed three words and the description can be as long as necessary.\n",
    "\"\"\""
   ]
  },
  {
   "cell_type": "markdown",
   "id": "efa4be1d-f05a-4c8c-bf81-92836fdd93f3",
   "metadata": {},
   "source": [
    "### Prompt: Ideas for a tabletop card game"
   ]
  },
  {
   "cell_type": "code",
   "execution_count": null,
   "id": "6d5c8419-1471-472d-ae3f-2730128787bb",
   "metadata": {
    "tags": []
   },
   "outputs": [],
   "source": [
    "topic=\"Ideas for a tabletop card game\""
   ]
  },
  {
   "cell_type": "code",
   "execution_count": null,
   "id": "b491c0b6-5056-4903-8bee-d192cbe11e59",
   "metadata": {
    "tags": []
   },
   "outputs": [],
   "source": [
    "completion = openai.ChatCompletion.create(\n",
    "    model=\"gpt-3.5-turbo\",\n",
    "    presence_penalty=0,\n",
    "    temperature=1,\n",
    "    top_p=1,\n",
    "    messages=[\n",
    "        {\"role\": \"system\", \"content\": system_prompt},\n",
    "        {\"role\": \"user\", \"content\": topic}\n",
    "    ])\n",
    "response1=completion.choices[0].message"
   ]
  },
  {
   "cell_type": "code",
   "execution_count": null,
   "id": "76129e76-ecc9-4784-8f32-f50840874cda",
   "metadata": {
    "tags": []
   },
   "outputs": [],
   "source": [
    "display_csv(response1.content)"
   ]
  },
  {
   "cell_type": "code",
   "execution_count": null,
   "id": "d076f199-42cd-41e7-bbc7-21ea83022249",
   "metadata": {
    "tags": []
   },
   "outputs": [],
   "source": [
    "message2=\"More like \\\"{}\\\"\".format(extract_title(response1))\n",
    "print(message2)"
   ]
  },
  {
   "cell_type": "code",
   "execution_count": null,
   "id": "db23c864-a8ba-4222-b3d5-52747ec181be",
   "metadata": {
    "tags": []
   },
   "outputs": [],
   "source": [
    "completion = openai.ChatCompletion.create(\n",
    "    model=\"gpt-3.5-turbo\",\n",
    "    presence_penalty=0,\n",
    "    temperature=1,\n",
    "    top_p=1,\n",
    "    messages=[\n",
    "        {\"role\": \"system\", \"content\": system_prompt},\n",
    "        {\"role\": \"user\", \"content\": message1},\n",
    "        dict(response1),\n",
    "        {\"role\": \"user\", \"content\": message2},\n",
    "    ])\n",
    "response2=completion.choices[0].message"
   ]
  },
  {
   "cell_type": "code",
   "execution_count": null,
   "id": "f5fd7fe5-4619-431d-9c6c-21f129e152a4",
   "metadata": {
    "tags": []
   },
   "outputs": [],
   "source": [
    "display_csv(response2.content)"
   ]
  },
  {
   "cell_type": "code",
   "execution_count": null,
   "id": "5ebe05e1-098d-4820-adee-38a2630c1df1",
   "metadata": {
    "tags": []
   },
   "outputs": [],
   "source": [
    "message3=\"More like \\\"{}\\\"\".format(extract_title(response2))\n",
    "print(message3)"
   ]
  },
  {
   "cell_type": "code",
   "execution_count": null,
   "id": "fd329966-8bc9-45d9-9160-7ddaf12fe809",
   "metadata": {
    "tags": []
   },
   "outputs": [],
   "source": [
    "completion = openai.ChatCompletion.create(\n",
    "    model=\"gpt-3.5-turbo\",\n",
    "    presence_penalty=0,\n",
    "    temperature=1,\n",
    "    top_p=1,\n",
    "    messages=[\n",
    "        {\"role\": \"system\", \"content\": system_prompt},\n",
    "        {\"role\": \"user\", \"content\": message1},\n",
    "        dict(response1),\n",
    "        {\"role\": \"user\", \"content\": message2},\n",
    "        dict(response2),\n",
    "        {\"role\": \"user\", \"content\": message3},\n",
    "    ])\n",
    "response3=completion.choices[0].message"
   ]
  },
  {
   "cell_type": "code",
   "execution_count": null,
   "id": "8b40713a-3fd2-441f-b5f6-2848ce74b571",
   "metadata": {
    "tags": []
   },
   "outputs": [],
   "source": [
    "display_csv(response3.content)"
   ]
  }
 ],
 "metadata": {
  "kernelspec": {
   "display_name": "Python 3 (ipykernel)",
   "language": "python",
   "name": "python3"
  },
  "language_info": {
   "codemirror_mode": {
    "name": "ipython",
    "version": 3
   },
   "file_extension": ".py",
   "mimetype": "text/x-python",
   "name": "python",
   "nbconvert_exporter": "python",
   "pygments_lexer": "ipython3",
   "version": "3.10.10"
  }
 },
 "nbformat": 4,
 "nbformat_minor": 5
}
