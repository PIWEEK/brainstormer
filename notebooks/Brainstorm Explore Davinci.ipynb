{
 "cells": [
  {
   "cell_type": "code",
   "execution_count": null,
   "id": "e16007e9-851b-4280-aeea-f01d34a213a3",
   "metadata": {
    "tags": []
   },
   "outputs": [],
   "source": [
    "%%capture\n",
    "\n",
    "## Requires pip install the following packages\n",
    "## - openai\n",
    "## - tabulate\n",
    "%pip install --upgrade openai tabulate"
   ]
  },
  {
   "cell_type": "code",
   "execution_count": null,
   "id": "348be96b-2cf7-4853-99cc-5634d57926dd",
   "metadata": {
    "tags": []
   },
   "outputs": [],
   "source": [
    "import os\n",
    "import openai\n",
    "openai.organization = os.getenv('BRAINSTORMER_OPENAI_ORG')\n",
    "openai.api_key = os.getenv('BRAINSTORMER_OPENAI_KEY')\n",
    "\n",
    "assert openai.Model.list() is not None"
   ]
  },
  {
   "cell_type": "code",
   "execution_count": null,
   "id": "09db16e8-ccfa-4dfd-9f1a-c6388e08408a",
   "metadata": {
    "tags": []
   },
   "outputs": [],
   "source": [
    "#topic = \"Computer game about \\\"Harvest\\\"\"\n",
    "topic = \"How to teach a monkey do things\"\n",
    "#previous = [\n",
    "#    \"Indoor Treasure Hunt | Create a treasure hunt with clues and small prizes hidden throughout the house. Children will have a great time searching for the hidden treasure and solving the clues.\",\n",
    "#    \"DIY Playdough | Make homemade playdough with flour, salt, water, and food coloring. Kids will love mixing the ingredients together and then playing with the colorful playdough.\",\n",
    "#    \"Movie Marathon | Choose a few of your favorite movies and have a movie marathon with the kids. Don't forget the popcorn and snacks!\",\n",
    "#]\n",
    "previous = [\n",
    "    \"Monkey-Proof Your Home | Make sure your house is monkey-proofed to avoid any damage or messes.\",\n",
    "    \"Teach Monkey to do Tricks | Train the monkey to do tricks such as jumping through hoops, balancing on a ball, or riding a bike.\"\n",
    "]"
   ]
  },
  {
   "cell_type": "code",
   "execution_count": null,
   "id": "8262f914-9df4-491e-9863-cf9d71c9f729",
   "metadata": {
    "tags": []
   },
   "outputs": [],
   "source": [
    "previous_list = \", \".join([\"\\\"{}\\\"\".format(p.split(\"|\")[0].strip()) for p in previous]) if previous and len(previous) > 1 else None\n",
    "\n",
    "previous_text = \"\"\"\n",
    "Given this list of already selected ideas we want to elaborate on:\n",
    "title | description\n",
    "{}\n",
    "\"\"\".format(\"\\n\".join(previous)) if previous and len(previous) > 1 else \"\"\n"
   ]
  },
  {
   "cell_type": "code",
   "execution_count": null,
   "id": "bb868cfb-1e86-47ff-a30e-211a973de983",
   "metadata": {
    "tags": []
   },
   "outputs": [],
   "source": [
    "if previous and len(previous) > 1:\n",
    "    question_text = \"The next best 5 ideas that based combine ideas from {} are:\".format(previous_list)\n",
    "else:\n",
    "    question_text = \"The next best 5 ideas are:\"\n",
    "\n",
    "prompt = \"\"\"\n",
    "# Brainstorming session\n",
    "\n",
    "This document keeps track of possible ideas.\n",
    "\n",
    "The ideas will be stored in a well formed CSV document. Where the columns will be separated by the character |.\n",
    "\n",
    "The document will have a list of ideas and every idea will have the columns \"title\" with a name for the idea and \"description\" with the idea description.\n",
    "\n",
    "For example with the topic: \"Activities with children for a rainy day\" an example list of ideas could be:\n",
    "\n",
    "```\n",
    "title | description\n",
    "Indoor Treasure Hunt | Create a treasure hunt with clues and small prizes hidden throughout the house. Children will have a great time searching for the hidden treasure and solving the clues.\n",
    "DIY Playdough | Make homemade playdough with flour, salt, water, and food coloring. Kids will love mixing the ingredients together and then playing with the colorful playdough.\n",
    "Movie Marathon | Choose a few of your favorite movies and have a movie marathon with the kids. Don't forget the popcorn and snacks!\n",
    "```\n",
    "## New Ideas for {}\n",
    "\n",
    "{}\n",
    "\n",
    "{}\n",
    "\n",
    "title | description\n",
    "\"\"\".format(topic, previous_text, question_text)"
   ]
  },
  {
   "cell_type": "code",
   "execution_count": null,
   "id": "b8a42e39-21f6-4329-9ecc-54dea9bbf9ca",
   "metadata": {
    "tags": []
   },
   "outputs": [],
   "source": [
    "completion = openai.Completion.create(\n",
    "    model=\"text-davinci-003\",\n",
    "    presence_penalty=1,\n",
    "    temperature=0.6,\n",
    "    top_p=1,\n",
    "    best_of=1,\n",
    "    frequency_penalty=1,\n",
    "    max_tokens=512,\n",
    "    prompt=prompt)\n",
    "print(completion.choices[0].text)"
   ]
  },
  {
   "cell_type": "code",
   "execution_count": null,
   "id": "3d75fd6d-4b95-4eb8-b905-f03ad7aa2402",
   "metadata": {
    "tags": []
   },
   "outputs": [],
   "source": [
    "more_prompt = prompt+completion.choices[0].text+\"\\n\\nOther 5 ideas that are much crazier:\\ntitle | description\\n\""
   ]
  },
  {
   "cell_type": "code",
   "execution_count": null,
   "id": "a0b0ebc1-0480-4c43-8d91-3d49ba51c34d",
   "metadata": {
    "tags": []
   },
   "outputs": [],
   "source": [
    "completion = openai.Completion.create(\n",
    "    model=\"text-davinci-003\",\n",
    "    presence_penalty=1,\n",
    "    temperature=0.6,\n",
    "    top_p=1,\n",
    "    best_of=1,\n",
    "    frequency_penalty=1,\n",
    "    max_tokens=512,\n",
    "    prompt=more_prompt)\n",
    "print(completion.choices[0].text)"
   ]
  },
  {
   "cell_type": "code",
   "execution_count": null,
   "id": "d23912ba-2d0a-4c65-a451-507990a3c8c8",
   "metadata": {
    "tags": []
   },
   "outputs": [],
   "source": [
    "[{\"title\": a.strip(), \"description\": b.strip()} for a, b in [line.split(\"|\") for line in completion.choices[0].text.split(\"\\n\")]]"
   ]
  },
  {
   "cell_type": "code",
   "execution_count": null,
   "id": "5674a6c1-8af5-41de-8da1-95649e3508d6",
   "metadata": {},
   "outputs": [],
   "source": []
  }
 ],
 "metadata": {
  "kernelspec": {
   "display_name": "Python 3 (ipykernel)",
   "language": "python",
   "name": "python3"
  },
  "language_info": {
   "codemirror_mode": {
    "name": "ipython",
    "version": 3
   },
   "file_extension": ".py",
   "mimetype": "text/x-python",
   "name": "python",
   "nbconvert_exporter": "python",
   "pygments_lexer": "ipython3",
   "version": "3.10.10"
  }
 },
 "nbformat": 4,
 "nbformat_minor": 5
}
