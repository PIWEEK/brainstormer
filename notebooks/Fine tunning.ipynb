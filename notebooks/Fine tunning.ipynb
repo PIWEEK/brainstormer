{
 "cells": [
  {
   "cell_type": "code",
   "execution_count": null,
   "id": "b847c855-d3fc-4e5c-88c2-74abd09b5656",
   "metadata": {
    "tags": []
   },
   "outputs": [],
   "source": [
    "%%capture\n",
    "\n",
    "## Requires pip install the following packages\n",
    "## - openai\n",
    "## - tabulate\n",
    "%pip install --upgrade openai tabulate"
   ]
  },
  {
   "cell_type": "code",
   "execution_count": null,
   "id": "750710b8-ace4-4404-b15d-16b1ead57467",
   "metadata": {
    "tags": []
   },
   "outputs": [],
   "source": [
    "import os\n",
    "import openai\n",
    "openai.organization = os.getenv('BRAINSTORMER_OPENAI_ORG')\n",
    "openai.api_key = os.getenv('BRAINSTORMER_OPENAI_KEY')\n",
    "\n",
    "## Test that everything is setup alright showing the first 10 models\n",
    "for m in openai.Model.list().data[:10]:\n",
    "    print(m.id)"
   ]
  },
  {
   "cell_type": "code",
   "execution_count": null,
   "id": "bbbdb75b-b013-4a3c-a10f-0846c80e8417",
   "metadata": {},
   "outputs": [],
   "source": []
  }
 ],
 "metadata": {
  "kernelspec": {
   "display_name": "Python 3 (ipykernel)",
   "language": "python",
   "name": "python3"
  },
  "language_info": {
   "codemirror_mode": {
    "name": "ipython",
    "version": 3
   },
   "file_extension": ".py",
   "mimetype": "text/x-python",
   "name": "python",
   "nbconvert_exporter": "python",
   "pygments_lexer": "ipython3",
   "version": "3.10.10"
  }
 },
 "nbformat": 4,
 "nbformat_minor": 5
}
